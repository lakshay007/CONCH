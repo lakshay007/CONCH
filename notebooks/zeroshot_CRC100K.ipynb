{
 "cells": [
  {
   "metadata": {},
   "cell_type": "code",
   "source": [
    "import os\n",
    "from pathlib import Path\n",
    "import json\n",
    "\n",
    "from conch.open_clip_custom import create_model_from_pretrained\n",
    "from conch.downstream.zeroshot_path import zero_shot_classifier, run_zeroshot\n",
    "\n",
    "import torch\n",
    "import torch.nn.functional as F\n",
    "from torchvision.datasets import ImageFolder\n",
    "from torch.utils.data import DataLoader\n",
    "\n",
    "from IPython.core.interactiveshell import InteractiveShell\n",
    "InteractiveShell.ast_node_interactivity = \"all\""
   ],
   "outputs": [],
   "execution_count": null
  },
  {
   "cell_type": "code",
   "metadata": {},
   "source": [
    "root = Path('../').resolve()\n",
    "os.chdir(root)"
   ],
   "outputs": [],
   "execution_count": null
  },
  {
   "cell_type": "markdown",
   "metadata": {},
   "source": ""
  },
  {
   "cell_type": "code",
   "metadata": {},
   "source": [
    "model_cfg = 'conch_ViT-B-16'\n",
    "device = torch.device('cuda:0' if torch.cuda.is_available() else 'cpu')\n",
    "checkpoint_path = './checkpoints/CONCH/pytorch_model.bin'\n",
    "force_image_size = 224\n",
    "model, preprocess = create_model_from_pretrained(model_cfg, checkpoint_path, device=device,\n",
    "                                                 force_image_size=force_image_size)\n",
    "_ = model.eval()"
   ],
   "outputs": [],
   "execution_count": null
  },
  {
   "cell_type": "code",
   "metadata": {},
   "source": [
    "data_source = './NCT-CRC-HE-100K'\n",
    "dataset = ImageFolder(data_source, transform=preprocess)\n",
    "dataloader = DataLoader(dataset, batch_size=64, shuffle=False, num_workers=4)\n",
    "if hasattr(dataloader.dataset, 'class_to_idx'):\n",
    "     idx_to_class = {v:k for k,v in dataloader.dataset.class_to_idx.items()}\n",
    "else:\n",
    "     raise ValueError('Dataset does not have label_map attribute')\n",
    "print(\"num samples: \", len(dataloader.dataset))\n",
    "print(idx_to_class)"
   ],
   "outputs": [],
   "execution_count": null
  },
  {
   "cell_type": "code",
   "metadata": {},
   "source": [
    "prompt_file = './prompt_and_captions/crc100k_prompts_all_per_class.json'\n",
    "with open(prompt_file) as f:\n",
    "    prompts = json.load(f)['0']\n",
    "classnames = prompts['classnames']\n",
    "templates = prompts['templates']\n",
    "n_classes = len(classnames)\n",
    "classnames_text = [classnames[str(idx_to_class[idx])] for idx in range(n_classes)]\n",
    "for class_idx, classname in enumerate(classnames_text):\n",
    "    print(f'{class_idx}: {classname}')"
   ],
   "outputs": [],
   "execution_count": null
  },
  {
   "cell_type": "code",
   "metadata": {},
   "source": [
    "zeroshot_weights = zero_shot_classifier(model, classnames_text, templates, device=device)\n",
    "print(zeroshot_weights.shape)"
   ],
   "outputs": [],
   "execution_count": null
  },
  {
   "cell_type": "code",
   "metadata": {},
   "source": [
    "results, dump = run_zeroshot(model, zeroshot_weights, dataloader, device, \n",
    "                    dump_results=True, metrics=['bacc', 'weighted_f1', 'weighted_kappa'])"
   ],
   "outputs": [],
   "execution_count": null
  },
  {
   "cell_type": "code",
   "metadata": {},
   "source": [
    "for k, v in results.items():\n",
    "    print(f'{k}: {v:.3f}')"
   ],
   "outputs": [],
   "execution_count": null
  }
 ],
 "metadata": {
  "kernelspec": {
   "display_name": "conch",
   "language": "python",
   "name": "python3"
  },
  "language_info": {
   "codemirror_mode": {
    "name": "ipython",
    "version": 3
   },
   "file_extension": ".py",
   "mimetype": "text/x-python",
   "name": "python",
   "nbconvert_exporter": "python",
   "pygments_lexer": "ipython3",
   "version": "3.10.13"
  }
 },
 "nbformat": 4,
 "nbformat_minor": 2
}
